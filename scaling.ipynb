{
 "cells": [
  {
   "cell_type": "markdown",
   "metadata": {},
   "source": [
    "## Scaling Numeric Data Exercises\n",
    "\n",
    "Do your work for these exercises in a jupyter notebook named scaling. Use the telco dataset you acquired and prepped in previous lesson. Once you are finished, you may wish to repeat the exercises on another dataset for additional practice. "
   ]
  },
  {
   "cell_type": "code",
   "execution_count": 1,
   "metadata": {},
   "outputs": [],
   "source": [
    "import numpy as np\n",
    "import pandas as pd\n",
    "from scipy import stats\n",
    "\n",
    "import sklearn.preprocessing\n",
    "\n",
    "import matplotlib.pyplot as plt\n",
    "\n",
    "import wrangle"
   ]
  },
  {
   "cell_type": "code",
   "execution_count": 2,
   "metadata": {},
   "outputs": [
    {
     "data": {
      "text/html": [
       "<div>\n",
       "<style scoped>\n",
       "    .dataframe tbody tr th:only-of-type {\n",
       "        vertical-align: middle;\n",
       "    }\n",
       "\n",
       "    .dataframe tbody tr th {\n",
       "        vertical-align: top;\n",
       "    }\n",
       "\n",
       "    .dataframe thead th {\n",
       "        text-align: right;\n",
       "    }\n",
       "</style>\n",
       "<table border=\"1\" class=\"dataframe\">\n",
       "  <thead>\n",
       "    <tr style=\"text-align: right;\">\n",
       "      <th></th>\n",
       "      <th>customer_id</th>\n",
       "      <th>monthly_charges</th>\n",
       "      <th>tenure</th>\n",
       "      <th>total_charges</th>\n",
       "    </tr>\n",
       "  </thead>\n",
       "  <tbody>\n",
       "    <tr>\n",
       "      <th>0</th>\n",
       "      <td>0013-SMEOE</td>\n",
       "      <td>109.70</td>\n",
       "      <td>71</td>\n",
       "      <td>7904.25</td>\n",
       "    </tr>\n",
       "    <tr>\n",
       "      <th>1</th>\n",
       "      <td>0014-BMAQU</td>\n",
       "      <td>84.65</td>\n",
       "      <td>63</td>\n",
       "      <td>5377.80</td>\n",
       "    </tr>\n",
       "    <tr>\n",
       "      <th>2</th>\n",
       "      <td>0016-QLJIS</td>\n",
       "      <td>90.45</td>\n",
       "      <td>65</td>\n",
       "      <td>5957.90</td>\n",
       "    </tr>\n",
       "    <tr>\n",
       "      <th>3</th>\n",
       "      <td>0017-DINOC</td>\n",
       "      <td>45.20</td>\n",
       "      <td>54</td>\n",
       "      <td>2460.55</td>\n",
       "    </tr>\n",
       "    <tr>\n",
       "      <th>4</th>\n",
       "      <td>0017-IUDMW</td>\n",
       "      <td>116.80</td>\n",
       "      <td>72</td>\n",
       "      <td>8456.75</td>\n",
       "    </tr>\n",
       "  </tbody>\n",
       "</table>\n",
       "</div>"
      ],
      "text/plain": [
       "  customer_id  monthly_charges  tenure  total_charges\n",
       "0  0013-SMEOE           109.70      71        7904.25\n",
       "1  0014-BMAQU            84.65      63        5377.80\n",
       "2  0016-QLJIS            90.45      65        5957.90\n",
       "3  0017-DINOC            45.20      54        2460.55\n",
       "4  0017-IUDMW           116.80      72        8456.75"
      ]
     },
     "execution_count": 2,
     "metadata": {},
     "output_type": "execute_result"
    }
   ],
   "source": [
    "telcodf = wrangle.wrangle_telco()\n",
    "telcodf.head()"
   ]
  },
  {
   "cell_type": "code",
   "execution_count": 3,
   "metadata": {},
   "outputs": [
    {
     "data": {
      "text/plain": [
       "((949, 4), (407, 4), (339, 4))"
      ]
     },
     "execution_count": 3,
     "metadata": {},
     "output_type": "execute_result"
    }
   ],
   "source": [
    "train, validate, test = wrangle.split_telco(telcodf)\n",
    "train.shape, validate.shape, test.shape"
   ]
  },
  {
   "cell_type": "code",
   "execution_count": 4,
   "metadata": {},
   "outputs": [
    {
     "name": "stdout",
     "output_type": "stream",
     "text": [
      "<class 'pandas.core.frame.DataFrame'>\n",
      "Int64Index: 949 entries, 1063 to 1216\n",
      "Data columns (total 4 columns):\n",
      " #   Column           Non-Null Count  Dtype  \n",
      "---  ------           --------------  -----  \n",
      " 0   customer_id      949 non-null    object \n",
      " 1   monthly_charges  949 non-null    float64\n",
      " 2   tenure           949 non-null    int64  \n",
      " 3   total_charges    949 non-null    float64\n",
      "dtypes: float64(2), int64(1), object(1)\n",
      "memory usage: 37.1+ KB\n"
     ]
    }
   ],
   "source": [
    "train.info()"
   ]
  },
  {
   "cell_type": "markdown",
   "metadata": {},
   "source": [
    "1. Apply the scalers we talked about in this lesson to your data and visualize the results for the unscaled and scaled distribution ."
   ]
  },
  {
   "cell_type": "code",
   "execution_count": 5,
   "metadata": {},
   "outputs": [
    {
     "data": {
      "image/png": "[encoded data removed]",
      "text/plain": [
       "<Figure size 936x432 with 2 Axes>"
      ]
     },
     "metadata": {
      "needs_background": "light"
     },
     "output_type": "display_data"
    }
   ],
   "source": [
    "scaler_minmax = sklearn.preprocessing.MinMaxScaler()\n",
    "\n",
    "scaler_minmax.fit(train[['monthly_charges']])\n",
    "\n",
    "train['monthly_charges_scaled'] = scaler_minmax.transform(train[['monthly_charges']])\n",
    "\n",
    "plt.figure(figsize=(13, 6))\n",
    "plt.subplot(121)\n",
    "plt.hist(train.monthly_charges, ec='black')\n",
    "plt.title('Unscaled')\n",
    "plt.subplot(122)\n",
    "plt.hist(train.monthly_charges_scaled, ec='black')\n",
    "plt.title('Scaled')\n",
    "plt.show()"
   ]
  },
  {
   "cell_type": "code",
   "execution_count": 6,
   "metadata": {},
   "outputs": [
    {
     "data": {
      "image/png": "[encoded data removed]",
      "text/plain": [
       "<Figure size 936x432 with 2 Axes>"
      ]
     },
     "metadata": {
      "needs_background": "light"
     },
     "output_type": "display_data"
    }
   ],
   "source": [
    "scaler_standard = sklearn.preprocessing.StandardScaler()\n",
    "\n",
    "scaler_standard.fit(train[['tenure']])\n",
    "\n",
    "train['tenure_scaled'] = scaler_standard.transform(train[['tenure']])\n",
    "\n",
    "plt.figure(figsize=(13, 6))\n",
    "plt.subplot(121)\n",
    "plt.hist(train.tenure, bins=25, ec='black')\n",
    "plt.title('Unscaled')\n",
    "plt.subplot(122)\n",
    "plt.hist(train.tenure_scaled, bins=25, ec='black')\n",
    "plt.title('Scaled')\n",
    "plt.show()"
   ]
  },
  {
   "cell_type": "code",
   "execution_count": 7,
   "metadata": {},
   "outputs": [
    {
     "data": {
      "image/png": "[encoded data removed]",
      "text/plain": [
       "<Figure size 936x432 with 2 Axes>"
      ]
     },
     "metadata": {
      "needs_background": "light"
     },
     "output_type": "display_data"
    }
   ],
   "source": [
    "scaler_robust = sklearn.preprocessing.RobustScaler()\n",
    "\n",
    "scaler_robust.fit(train[['total_charges']])\n",
    "\n",
    "train['total_charges_scaled'] = scaler_robust.transform(train[['total_charges']])\n",
    "\n",
    "plt.figure(figsize=(13, 6))\n",
    "plt.subplot(121)\n",
    "plt.hist(train.total_charges, bins=25, ec='black')\n",
    "plt.title('Unscaled')\n",
    "plt.subplot(122)\n",
    "plt.hist(train.total_charges_scaled, bins=25, ec='black')\n",
    "plt.title('Scaled')\n",
    "plt.show()"
   ]
  },
  {
   "cell_type": "markdown",
   "metadata": {},
   "source": [
    "2. Apply the .inverse_transform method to your scaled data. Is the resulting dataset the exact same as the original data?\n"
   ]
  },
  {
   "cell_type": "code",
   "execution_count": 8,
   "metadata": {},
   "outputs": [
    {
     "data": {
      "text/html": [
       "<div>\n",
       "<style scoped>\n",
       "    .dataframe tbody tr th:only-of-type {\n",
       "        vertical-align: middle;\n",
       "    }\n",
       "\n",
       "    .dataframe tbody tr th {\n",
       "        vertical-align: top;\n",
       "    }\n",
       "\n",
       "    .dataframe thead th {\n",
       "        text-align: right;\n",
       "    }\n",
       "</style>\n",
       "<table border=\"1\" class=\"dataframe\">\n",
       "  <thead>\n",
       "    <tr style=\"text-align: right;\">\n",
       "      <th></th>\n",
       "      <th>monthly_charges</th>\n",
       "      <th>monthly_charges_scaled</th>\n",
       "      <th>monthly_charges_inverse</th>\n",
       "    </tr>\n",
       "  </thead>\n",
       "  <tbody>\n",
       "    <tr>\n",
       "      <th>1063</th>\n",
       "      <td>24.95</td>\n",
       "      <td>0.065337</td>\n",
       "      <td>24.95</td>\n",
       "    </tr>\n",
       "    <tr>\n",
       "      <th>1528</th>\n",
       "      <td>78.80</td>\n",
       "      <td>0.602494</td>\n",
       "      <td>78.80</td>\n",
       "    </tr>\n",
       "    <tr>\n",
       "      <th>1297</th>\n",
       "      <td>103.95</td>\n",
       "      <td>0.853367</td>\n",
       "      <td>103.95</td>\n",
       "    </tr>\n",
       "    <tr>\n",
       "      <th>1676</th>\n",
       "      <td>53.50</td>\n",
       "      <td>0.350125</td>\n",
       "      <td>53.50</td>\n",
       "    </tr>\n",
       "    <tr>\n",
       "      <th>1583</th>\n",
       "      <td>24.35</td>\n",
       "      <td>0.059352</td>\n",
       "      <td>24.35</td>\n",
       "    </tr>\n",
       "  </tbody>\n",
       "</table>\n",
       "</div>"
      ],
      "text/plain": [
       "      monthly_charges  monthly_charges_scaled  monthly_charges_inverse\n",
       "1063            24.95                0.065337                    24.95\n",
       "1528            78.80                0.602494                    78.80\n",
       "1297           103.95                0.853367                   103.95\n",
       "1676            53.50                0.350125                    53.50\n",
       "1583            24.35                0.059352                    24.35"
      ]
     },
     "execution_count": 8,
     "metadata": {},
     "output_type": "execute_result"
    }
   ],
   "source": [
    "train['monthly_charges_inverse'] = scaler_minmax.inverse_transform(train[['monthly_charges_scaled']])\n",
    "train[['monthly_charges', 'monthly_charges_scaled', 'monthly_charges_inverse']].head()"
   ]
  },
  {
   "cell_type": "code",
   "execution_count": 9,
   "metadata": {},
   "outputs": [
    {
     "data": {
      "image/png": "[encoded data removed]",
      "text/plain": [
       "<Figure size 936x432 with 3 Axes>"
      ]
     },
     "metadata": {
      "needs_background": "light"
     },
     "output_type": "display_data"
    }
   ],
   "source": [
    "plt.figure(figsize=(13, 6))\n",
    "plt.subplot(131)\n",
    "plt.hist(train.monthly_charges, bins=25, ec='black')\n",
    "plt.title('Unscaled')\n",
    "plt.subplot(132)\n",
    "plt.hist(train.monthly_charges_scaled, bins=25, ec='black')\n",
    "plt.title('Scaled')\n",
    "plt.subplot(133)\n",
    "plt.hist(train.monthly_charges_inverse, bins=25, ec='black')\n",
    "plt.title('Inverse')\n",
    "plt.show()"
   ]
  },
  {
   "cell_type": "code",
   "execution_count": 10,
   "metadata": {},
   "outputs": [
    {
     "data": {
      "text/html": [
       "<div>\n",
       "<style scoped>\n",
       "    .dataframe tbody tr th:only-of-type {\n",
       "        vertical-align: middle;\n",
       "    }\n",
       "\n",
       "    .dataframe tbody tr th {\n",
       "        vertical-align: top;\n",
       "    }\n",
       "\n",
       "    .dataframe thead th {\n",
       "        text-align: right;\n",
       "    }\n",
       "</style>\n",
       "<table border=\"1\" class=\"dataframe\">\n",
       "  <thead>\n",
       "    <tr style=\"text-align: right;\">\n",
       "      <th></th>\n",
       "      <th>tenure</th>\n",
       "      <th>tenure_scaled</th>\n",
       "      <th>tenure_inverse</th>\n",
       "    </tr>\n",
       "  </thead>\n",
       "  <tbody>\n",
       "    <tr>\n",
       "      <th>1063</th>\n",
       "      <td>51</td>\n",
       "      <td>-0.291464</td>\n",
       "      <td>51.0</td>\n",
       "    </tr>\n",
       "    <tr>\n",
       "      <th>1528</th>\n",
       "      <td>43</td>\n",
       "      <td>-0.728948</td>\n",
       "      <td>43.0</td>\n",
       "    </tr>\n",
       "    <tr>\n",
       "      <th>1297</th>\n",
       "      <td>72</td>\n",
       "      <td>0.856932</td>\n",
       "      <td>72.0</td>\n",
       "    </tr>\n",
       "    <tr>\n",
       "      <th>1676</th>\n",
       "      <td>65</td>\n",
       "      <td>0.474133</td>\n",
       "      <td>65.0</td>\n",
       "    </tr>\n",
       "    <tr>\n",
       "      <th>1583</th>\n",
       "      <td>71</td>\n",
       "      <td>0.802246</td>\n",
       "      <td>71.0</td>\n",
       "    </tr>\n",
       "  </tbody>\n",
       "</table>\n",
       "</div>"
      ],
      "text/plain": [
       "      tenure  tenure_scaled  tenure_inverse\n",
       "1063      51      -0.291464            51.0\n",
       "1528      43      -0.728948            43.0\n",
       "1297      72       0.856932            72.0\n",
       "1676      65       0.474133            65.0\n",
       "1583      71       0.802246            71.0"
      ]
     },
     "execution_count": 10,
     "metadata": {},
     "output_type": "execute_result"
    }
   ],
   "source": [
    "train['tenure_inverse'] = scaler_standard.inverse_transform(train[['tenure_scaled']])\n",
    "train[['tenure', 'tenure_scaled', 'tenure_inverse']].head()"
   ]
  },
  {
   "cell_type": "code",
   "execution_count": 11,
   "metadata": {},
   "outputs": [
    {
     "data": {
      "image/png": "[encoded data removed]",
      "text/plain": [
       "<Figure size 936x432 with 3 Axes>"
      ]
     },
     "metadata": {
      "needs_background": "light"
     },
     "output_type": "display_data"
    }
   ],
   "source": [
    "plt.figure(figsize=(13, 6))\n",
    "plt.subplot(131)\n",
    "plt.hist(train.tenure, bins=25, ec='black')\n",
    "plt.title('Unscaled')\n",
    "plt.subplot(132)\n",
    "plt.hist(train.tenure_scaled, bins=25, ec='black')\n",
    "plt.title('Scaled')\n",
    "plt.subplot(133)\n",
    "plt.hist(train.tenure_inverse, bins=25, ec='black')\n",
    "plt.title('Inverse')\n",
    "plt.show()"
   ]
  },
  {
   "cell_type": "code",
   "execution_count": 12,
   "metadata": {},
   "outputs": [
    {
     "data": {
      "text/html": [
       "<div>\n",
       "<style scoped>\n",
       "    .dataframe tbody tr th:only-of-type {\n",
       "        vertical-align: middle;\n",
       "    }\n",
       "\n",
       "    .dataframe tbody tr th {\n",
       "        vertical-align: top;\n",
       "    }\n",
       "\n",
       "    .dataframe thead th {\n",
       "        text-align: right;\n",
       "    }\n",
       "</style>\n",
       "<table border=\"1\" class=\"dataframe\">\n",
       "  <thead>\n",
       "    <tr style=\"text-align: right;\">\n",
       "      <th></th>\n",
       "      <th>total_charges</th>\n",
       "      <th>total_charges_scaled</th>\n",
       "      <th>total_charges_inverse</th>\n",
       "    </tr>\n",
       "  </thead>\n",
       "  <tbody>\n",
       "    <tr>\n",
       "      <th>1063</th>\n",
       "      <td>1288.0</td>\n",
       "      <td>-0.466178</td>\n",
       "      <td>1288.0</td>\n",
       "    </tr>\n",
       "    <tr>\n",
       "      <th>1528</th>\n",
       "      <td>3460.3</td>\n",
       "      <td>-0.000139</td>\n",
       "      <td>3460.3</td>\n",
       "    </tr>\n",
       "    <tr>\n",
       "      <th>1297</th>\n",
       "      <td>7556.9</td>\n",
       "      <td>0.878733</td>\n",
       "      <td>7556.9</td>\n",
       "    </tr>\n",
       "    <tr>\n",
       "      <th>1676</th>\n",
       "      <td>3517.9</td>\n",
       "      <td>0.012218</td>\n",
       "      <td>3517.9</td>\n",
       "    </tr>\n",
       "    <tr>\n",
       "      <th>1583</th>\n",
       "      <td>1654.6</td>\n",
       "      <td>-0.387529</td>\n",
       "      <td>1654.6</td>\n",
       "    </tr>\n",
       "  </tbody>\n",
       "</table>\n",
       "</div>"
      ],
      "text/plain": [
       "      total_charges  total_charges_scaled  total_charges_inverse\n",
       "1063         1288.0             -0.466178                 1288.0\n",
       "1528         3460.3             -0.000139                 3460.3\n",
       "1297         7556.9              0.878733                 7556.9\n",
       "1676         3517.9              0.012218                 3517.9\n",
       "1583         1654.6             -0.387529                 1654.6"
      ]
     },
     "execution_count": 12,
     "metadata": {},
     "output_type": "execute_result"
    }
   ],
   "source": [
    "train['total_charges_inverse'] = scaler_robust.inverse_transform(train[['total_charges_scaled']])\n",
    "train[['total_charges', 'total_charges_scaled', 'total_charges_inverse']].head()"
   ]
  },
  {
   "cell_type": "code",
   "execution_count": 13,
   "metadata": {},
   "outputs": [
    {
     "data": {
      "image/png": "[encoded data removed]",
      "text/plain": [
       "<Figure size 936x432 with 3 Axes>"
      ]
     },
     "metadata": {
      "needs_background": "light"
     },
     "output_type": "display_data"
    }
   ],
   "source": [
    "plt.figure(figsize=(13, 6))\n",
    "plt.subplot(131)\n",
    "plt.hist(train.total_charges, bins=25, ec='black')\n",
    "plt.title('Unscaled')\n",
    "plt.subplot(132)\n",
    "plt.hist(train.total_charges_scaled, bins=25, ec='black')\n",
    "plt.title('Scaled')\n",
    "plt.subplot(133)\n",
    "plt.hist(train.total_charges_inverse, bins=25, ec='black')\n",
    "plt.title('Inverse')\n",
    "plt.show()"
   ]
  },
  {
   "cell_type": "markdown",
   "metadata": {},
   "source": [
    "3. Read the documentation for sklearn's QuantileTransformer. Use normal for the output_distribution and apply this scaler to your data. Visualize the result of your data scaling."
   ]
  },
  {
   "cell_type": "code",
   "execution_count": 18,
   "metadata": {},
   "outputs": [
    {
     "name": "stderr",
     "output_type": "stream",
     "text": [
      "/usr/local/anaconda3/lib/python3.8/site-packages/sklearn/preprocessing/_data.py:2367: UserWarning: n_quantiles (1000) is greater than the total number of samples (949). n_quantiles is set to n_samples.\n",
      "  warnings.warn(\"n_quantiles (%s) is greater than the total number \"\n"
     ]
    },
    {
     "data": {
      "image/png": "[encoded data removed]",
      "text/plain": [
       "<Figure size 936x432 with 2 Axes>"
      ]
     },
     "metadata": {
      "needs_background": "light"
     },
     "output_type": "display_data"
    }
   ],
   "source": [
    "scaler_quant = sklearn.preprocessing.QuantileTransformer(output_distribution='normal')\n",
    "\n",
    "scaler_quant.fit(train[['monthly_charges']])\n",
    "\n",
    "train['monthly_charges_quant'] = scaler_quant.transform(train[['monthly_charges']])\n",
    "\n",
    "plt.figure(figsize=(13, 6))\n",
    "plt.subplot(121)\n",
    "plt.hist(train.monthly_charges, ec='black')\n",
    "plt.title('Unscaled')\n",
    "plt.subplot(122)\n",
    "plt.hist(train.monthly_charges_quant, ec='black')\n",
    "plt.title('Scaled')\n",
    "plt.show()"
   ]
  },
  {
   "cell_type": "markdown",
   "metadata": {},
   "source": [
    "4. Use the QuantileTransformer, but omit the output_distribution argument. Visualize your results. What do you notice?"
   ]
  },
  {
   "cell_type": "code",
   "execution_count": 19,
   "metadata": {},
   "outputs": [
    {
     "name": "stderr",
     "output_type": "stream",
     "text": [
      "/usr/local/anaconda3/lib/python3.8/site-packages/sklearn/preprocessing/_data.py:2367: UserWarning: n_quantiles (1000) is greater than the total number of samples (949). n_quantiles is set to n_samples.\n",
      "  warnings.warn(\"n_quantiles (%s) is greater than the total number \"\n"
     ]
    },
    {
     "data": {
      "image/png": "[encoded data removed]",
      "text/plain": [
       "<Figure size 936x432 with 3 Axes>"
      ]
     },
     "metadata": {
      "needs_background": "light"
     },
     "output_type": "display_data"
    }
   ],
   "source": [
    "scaler_quant2 = sklearn.preprocessing.QuantileTransformer()\n",
    "\n",
    "scaler_quant2.fit(train[['monthly_charges']])\n",
    "\n",
    "train['monthly_charges_quant2'] = scaler_quant2.transform(train[['monthly_charges']])\n",
    "\n",
    "plt.figure(figsize=(13, 6))\n",
    "plt.subplot(131)\n",
    "plt.hist(train.monthly_charges, ec='black')\n",
    "plt.title('Unscaled')\n",
    "plt.subplot(132)\n",
    "plt.hist(train.monthly_charges_quant, ec='black')\n",
    "plt.title('Quant1')\n",
    "plt.subplot(133)\n",
    "plt.hist(train.monthly_charges_quant2, ec='black')\n",
    "plt.title('Quant2')\n",
    "plt.show()"
   ]
  },
  {
   "cell_type": "code",
   "execution_count": 17,
   "metadata": {},
   "outputs": [
    {
     "data": {
      "image/png": "[encoded data removed]",
      "text/plain": [
       "<Figure size 936x432 with 3 Axes>"
      ]
     },
     "metadata": {
      "needs_background": "light"
     },
     "output_type": "display_data"
    }
   ],
   "source": [
    "plt.figure(figsize=(13, 6))\n",
    "plt.subplot(131)\n",
    "plt.hist(train.monthly_charges, ec='black')\n",
    "plt.title('Unscaled')\n",
    "plt.subplot(132)\n",
    "plt.hist(train.monthly_charges_quant, ec='black')\n",
    "plt.title('Quant1')\n",
    "plt.subplot(133)\n",
    "plt.hist(train.monthly_charges_quant2, ec='black')\n",
    "plt.title('Quant2')\n",
    "plt.show()"
   ]
  },
  {
   "cell_type": "markdown",
   "metadata": {},
   "source": [
    "5. Based on the work you've done, choose a scaling method for your dataset. Write a function within your prepare.py that accepts as input the train, validate, and test data splits, and returns the scaled versions of each. Be sure to only learn the parameters for scaling from your training data!"
   ]
  },
  {
   "cell_type": "code",
   "execution_count": 20,
   "metadata": {},
   "outputs": [],
   "source": [
    "def Min_Max_Scaler(X_train, X_validate, X_test):\n",
    "    \"\"\"\n",
    "    Takes in X_train, X_validate and X_test dfs with numeric values only\n",
    "    Returns scaler, X_train_scaled, X_validate_scaled, X_test_scaled dfs \n",
    "    \"\"\"\n",
    "    scaler = sklearn.preprocessing.MinMaxScaler().fit(X_train)\n",
    "    X_train_scaled = pd.DataFrame(scaler.transform(X_train), index = X_train.index, columns = X_train.columns)\n",
    "    X_validate_scaled = pd.DataFrame(scaler.transform(X_validate), index = X_validate.index, columns = X_validate.columns)\n",
    "    X_test_scaled = pd.DataFrame(scaler.transform(X_test), index = X_test.index, columns = X_test.columns)\n",
    "    \n",
    "    return scaler, X_train_scaled, X_validate_scaled, X_test_scaled"
   ]
  },
  {
   "cell_type": "code",
   "execution_count": 21,
   "metadata": {},
   "outputs": [],
   "source": [
    "X_train = train[['monthly_charges', 'tenure', 'total_charges']]\n",
    "X_validate = validate[['monthly_charges', 'tenure', 'total_charges']]\n",
    "X_test = test[['monthly_charges', 'tenure', 'total_charges']]"
   ]
  },
  {
   "cell_type": "code",
   "execution_count": 22,
   "metadata": {},
   "outputs": [
    {
     "data": {
      "text/html": [
       "<div>\n",
       "<style scoped>\n",
       "    .dataframe tbody tr th:only-of-type {\n",
       "        vertical-align: middle;\n",
       "    }\n",
       "\n",
       "    .dataframe tbody tr th {\n",
       "        vertical-align: top;\n",
       "    }\n",
       "\n",
       "    .dataframe thead th {\n",
       "        text-align: right;\n",
       "    }\n",
       "</style>\n",
       "<table border=\"1\" class=\"dataframe\">\n",
       "  <thead>\n",
       "    <tr style=\"text-align: right;\">\n",
       "      <th></th>\n",
       "      <th>monthly_charges</th>\n",
       "      <th>tenure</th>\n",
       "      <th>total_charges</th>\n",
       "    </tr>\n",
       "  </thead>\n",
       "  <tbody>\n",
       "    <tr>\n",
       "      <th>1063</th>\n",
       "      <td>0.065337</td>\n",
       "      <td>0.708333</td>\n",
       "      <td>0.146563</td>\n",
       "    </tr>\n",
       "    <tr>\n",
       "      <th>1528</th>\n",
       "      <td>0.602494</td>\n",
       "      <td>0.597222</td>\n",
       "      <td>0.397701</td>\n",
       "    </tr>\n",
       "    <tr>\n",
       "      <th>1297</th>\n",
       "      <td>0.853367</td>\n",
       "      <td>1.000000</td>\n",
       "      <td>0.871304</td>\n",
       "    </tr>\n",
       "    <tr>\n",
       "      <th>1676</th>\n",
       "      <td>0.350125</td>\n",
       "      <td>0.902778</td>\n",
       "      <td>0.404360</td>\n",
       "    </tr>\n",
       "    <tr>\n",
       "      <th>1583</th>\n",
       "      <td>0.059352</td>\n",
       "      <td>0.986111</td>\n",
       "      <td>0.188945</td>\n",
       "    </tr>\n",
       "  </tbody>\n",
       "</table>\n",
       "</div>"
      ],
      "text/plain": [
       "      monthly_charges    tenure  total_charges\n",
       "1063         0.065337  0.708333       0.146563\n",
       "1528         0.602494  0.597222       0.397701\n",
       "1297         0.853367  1.000000       0.871304\n",
       "1676         0.350125  0.902778       0.404360\n",
       "1583         0.059352  0.986111       0.188945"
      ]
     },
     "execution_count": 22,
     "metadata": {},
     "output_type": "execute_result"
    }
   ],
   "source": [
    "scaler, X_train_scaled, X_validate_scaled, X_test_scaled = Min_Max_Scaler(X_train, X_validate, X_test)\n",
    "\n",
    "X_train_scaled.head()"
   ]
  },
  {
   "cell_type": "code",
   "execution_count": null,
   "metadata": {},
   "outputs": [],
   "source": []
  }
 ],
 "metadata": {
  "kernelspec": {
   "display_name": "Python 3",
   "language": "python",
   "name": "python3"
  },
  "language_info": {
   "codemirror_mode": {
    "name": "ipython",
    "version": 3
   },
   "file_extension": ".py",
   "mimetype": "text/x-python",
   "name": "python",
   "nbconvert_exporter": "python",
   "pygments_lexer": "ipython3",
   "version": "3.8.5"
  }
 },
 "nbformat": 4,
 "nbformat_minor": 4
}
